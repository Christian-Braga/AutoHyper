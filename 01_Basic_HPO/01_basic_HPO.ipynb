{
 "cells": [
  {
   "cell_type": "markdown",
   "metadata": {},
   "source": [
    "## **Basic HPO - Grid Search and Random Search**"
   ]
  },
  {
   "cell_type": "markdown",
   "metadata": {},
   "source": [
    "the aim of this notebook is to make an unbiased comparison between two basic hyper parameter optimization technique:\n",
    "In order to explain and undestand the main differences and strenghts.\n",
    "\n",
    "- grid search\n",
    "\n",
    "- random search \n",
    "\n",
    "Breve spiegazione delle due tecniche (con pro/contro teorici).\n",
    "\n",
    "\n"
   ]
  },
  {
   "cell_type": "markdown",
   "metadata": {},
   "source": [
    "### **01. Setup**"
   ]
  },
  {
   "cell_type": "markdown",
   "metadata": {},
   "source": [
    "#### **0. Libraries**"
   ]
  },
  {
   "cell_type": "code",
   "execution_count": 6,
   "metadata": {},
   "outputs": [],
   "source": [
    "import numpy as np\n",
    "import pandas as pd\n",
    "import matplotlib.pyplot as plt\n",
    "import seaborn as sns\n",
    "\n",
    "from sklearn.datasets import fetch_california_housing\n",
    "from sklearn.model_selection import train_test_split\n",
    "from sklearn.metrics import root_mean_squared_error\n",
    "from sklearn.model_selection import cross_val_score\n",
    "\n",
    "import xgboost as xgb\n",
    "from src import HPO\n",
    "import itertools"
   ]
  },
  {
   "cell_type": "markdown",
   "metadata": {},
   "source": [
    "The components of a Tuning problem are:"
   ]
  },
  {
   "cell_type": "markdown",
   "metadata": {},
   "source": [
    "#### **1. The Dataset**"
   ]
  },
  {
   "cell_type": "markdown",
   "metadata": {},
   "source": [
    "we will use the California Housing dataset, where the task is to regress the median house price in California districts (expressed in hundreds of thousands of dollars) on the other 8 numeric features."
   ]
  },
  {
   "cell_type": "markdown",
   "metadata": {},
   "source": [
    "#### **2. Sampling technique: Nested Resempling**"
   ]
  },
  {
   "cell_type": "code",
   "execution_count": null,
   "metadata": {},
   "outputs": [],
   "source": []
  },
  {
   "cell_type": "markdown",
   "metadata": {},
   "source": [
    "### **02. Grid Search**"
   ]
  },
  {
   "cell_type": "markdown",
   "metadata": {},
   "source": [
    "costruzione del modello ottimizzato con grid search "
   ]
  },
  {
   "cell_type": "markdown",
   "metadata": {},
   "source": [
    "### **03. Random Search**"
   ]
  },
  {
   "cell_type": "markdown",
   "metadata": {},
   "source": [
    "costruzione del modello ottimizzato con random search "
   ]
  },
  {
   "cell_type": "markdown",
   "metadata": {},
   "source": [
    "### **04. Comparison**"
   ]
  },
  {
   "cell_type": "markdown",
   "metadata": {},
   "source": [
    "tabella comparativa e comparazione delle metriche ottenute "
   ]
  },
  {
   "cell_type": "markdown",
   "metadata": {},
   "source": [
    "### **05. Conclusion**"
   ]
  },
  {
   "cell_type": "markdown",
   "metadata": {},
   "source": [
    "🧠 6. Conclusione\n",
    "Riflessioni imparziali su:\n",
    "\n",
    "Performance\n",
    "\n",
    "Efficienza\n",
    "\n",
    "Stabilità dei risultati\n",
    "\n",
    "Quando usare uno o l’altro\n",
    "\n",
    "Possibili estensioni (Bayesian Search, Optuna, etc.)\n",
    "\n",
    "📁 7. Appendice (opzionale)\n",
    "Log dei risultati completi\n",
    "\n",
    "Codice riutilizzabile\n",
    "\n",
    "Funzioni generiche (es. visualizzazioni)\n",
    "\n"
   ]
  },
  {
   "cell_type": "markdown",
   "metadata": {},
   "source": [
    "## TESTS"
   ]
  },
  {
   "cell_type": "markdown",
   "metadata": {},
   "source": [
    "#### **Dataset**"
   ]
  },
  {
   "cell_type": "code",
   "execution_count": 7,
   "metadata": {},
   "outputs": [],
   "source": [
    "# Load the California Housing Dataset and convert it into a pandas DataFrame\n",
    "X, y = fetch_california_housing(return_X_y=True)\n",
    "\n",
    "X = pd.DataFrame(\n",
    "    X,\n",
    "    columns=[\n",
    "        \"MedInc\",\n",
    "        \"HouseAge\",\n",
    "        \"AveRooms\",\n",
    "        \"AveBedrms\",\n",
    "        \"Population\",\n",
    "        \"AveOccup\",\n",
    "        \"Latitude\",\n",
    "        \"Longitude\",\n",
    "    ],\n",
    ")\n",
    "y = pd.Series(y, name=\"target\")"
   ]
  },
  {
   "cell_type": "markdown",
   "metadata": {},
   "source": [
    "#### **Setup**"
   ]
  },
  {
   "cell_type": "code",
   "execution_count": 8,
   "metadata": {},
   "outputs": [],
   "source": [
    "model = xgb.XGBRegressor()\n",
    "data_features = X\n",
    "data_target = y\n",
    "hp_values = {\n",
    "    \"max_depth\": [1, 3, 5],\n",
    "    \"learning_rate\": [0.01, 0.1, 0.2],\n",
    "    \"n_estimators\": [10, 30, 50],\n",
    "}\n",
    "task = \"regression\""
   ]
  },
  {
   "cell_type": "code",
   "execution_count": 9,
   "metadata": {},
   "outputs": [],
   "source": [
    "test_hpo = HPO(\n",
    "    model=model,\n",
    "    data_features=data_features,\n",
    "    data_target=data_target,\n",
    "    hp_values=hp_values,\n",
    "    task=task,\n",
    ")"
   ]
  },
  {
   "cell_type": "markdown",
   "metadata": {},
   "source": [
    "### **01. GRID SEARCH**"
   ]
  },
  {
   "cell_type": "code",
   "execution_count": 12,
   "metadata": {},
   "outputs": [
    {
     "data": {
      "text/plain": [
       "{'best_config_by_performance': {'max_depth': 5,\n",
       "  'learning_rate': 0.2,\n",
       "  'n_estimators': 50},\n",
       " 'best_config_performance': {'config': {'max_depth': 5,\n",
       "   'learning_rate': 0.2,\n",
       "   'n_estimators': 50},\n",
       "  'performances': [{'R2': 0.8159666105205331, 'mse': 0.24115900586999775},\n",
       "   {'R2': 0.8280188251843633, 'mse': 0.23494245908599962},\n",
       "   {'R2': 0.814077218849769, 'mse': 0.24189519574813542},\n",
       "   {'R2': 0.8367591377370653, 'mse': 0.21759875427331643},\n",
       "   {'R2': 0.8126743184065874, 'mse': 0.2521379986587194}],\n",
       "  'count': 5,\n",
       "  'avg_r2': 0.8214992221396636,\n",
       "  'avg_mse': 0.23754668272723373,\n",
       "  'score': 0.8214992221396636},\n",
       " 'most_frequent_configs': [{'learning_rate': 0.2,\n",
       "   'max_depth': 5,\n",
       "   'n_estimators': 50}],\n",
       " 'most_frequent_config_count': 5,\n",
       " 'all_configurations': [{'config': {'max_depth': 5,\n",
       "    'learning_rate': 0.2,\n",
       "    'n_estimators': 50},\n",
       "   'performances': [{'R2': 0.8159666105205331, 'mse': 0.24115900586999775},\n",
       "    {'R2': 0.8280188251843633, 'mse': 0.23494245908599962},\n",
       "    {'R2': 0.814077218849769, 'mse': 0.24189519574813542},\n",
       "    {'R2': 0.8367591377370653, 'mse': 0.21759875427331643},\n",
       "    {'R2': 0.8126743184065874, 'mse': 0.2521379986587194}],\n",
       "   'count': 5,\n",
       "   'avg_r2': 0.8214992221396636,\n",
       "   'avg_mse': 0.23754668272723373,\n",
       "   'score': 0.8214992221396636}],\n",
       " 'overall_metrics': {'best_model_R2': 0.8214992221396636,\n",
       "  'best_model_mse': 0.23754668272723373},\n",
       " 'outer_cv_results': [{'metrics': {'R2': 0.8159666105205331,\n",
       "    'mse': 0.24115900586999775},\n",
       "   'hpo_time_seconds': 1.783322811126709,\n",
       "   'best_config_inner_cv': {'max_depth': 5,\n",
       "    'learning_rate': 0.2,\n",
       "    'n_estimators': 50}},\n",
       "  {'metrics': {'R2': 0.8280188251843633, 'mse': 0.23494245908599962},\n",
       "   'hpo_time_seconds': 1.7636847496032715,\n",
       "   'best_config_inner_cv': {'max_depth': 5,\n",
       "    'learning_rate': 0.2,\n",
       "    'n_estimators': 50}},\n",
       "  {'metrics': {'R2': 0.814077218849769, 'mse': 0.24189519574813542},\n",
       "   'hpo_time_seconds': 1.7226648330688477,\n",
       "   'best_config_inner_cv': {'max_depth': 5,\n",
       "    'learning_rate': 0.2,\n",
       "    'n_estimators': 50}},\n",
       "  {'metrics': {'R2': 0.8367591377370653, 'mse': 0.21759875427331643},\n",
       "   'hpo_time_seconds': 2.0524868965148926,\n",
       "   'best_config_inner_cv': {'max_depth': 5,\n",
       "    'learning_rate': 0.2,\n",
       "    'n_estimators': 50}},\n",
       "  {'metrics': {'R2': 0.8126743184065874, 'mse': 0.2521379986587194},\n",
       "   'hpo_time_seconds': 1.7878568172454834,\n",
       "   'best_config_inner_cv': {'max_depth': 5,\n",
       "    'learning_rate': 0.2,\n",
       "    'n_estimators': 50}}],\n",
       " 'best_model_R2': 0.8214992221396636,\n",
       " 'best_model_mse': 0.23754668272723373}"
      ]
     },
     "execution_count": 12,
     "metadata": {},
     "output_type": "execute_result"
    }
   ],
   "source": [
    "test_hpo.hp_tuning(hpo_method=\"grid_search\", outer_k=5, inner_k=3)"
   ]
  },
  {
   "cell_type": "code",
   "execution_count": 5,
   "metadata": {},
   "outputs": [
    {
     "data": {
      "text/plain": [
       "{'most_frequent_configs': [{'learning_rate': 0.2,\n",
       "   'max_depth': 5,\n",
       "   'n_estimators': 50}],\n",
       " 'most_frequent_config_count': 5,\n",
       " 'outer_cv_results': [{'metrics': {'R2': 0.8159666105205331,\n",
       "    'mse': 0.24115900586999775},\n",
       "   'hpo_time_seconds': 1.730086326599121,\n",
       "   'best_config_inner_cv': {'max_depth': 5,\n",
       "    'learning_rate': 0.2,\n",
       "    'n_estimators': 50}},\n",
       "  {'metrics': {'R2': 0.8280188251843633, 'mse': 0.23494245908599962},\n",
       "   'hpo_time_seconds': 1.536391019821167,\n",
       "   'best_config_inner_cv': {'max_depth': 5,\n",
       "    'learning_rate': 0.2,\n",
       "    'n_estimators': 50}},\n",
       "  {'metrics': {'R2': 0.814077218849769, 'mse': 0.24189519574813542},\n",
       "   'hpo_time_seconds': 1.600188970565796,\n",
       "   'best_config_inner_cv': {'max_depth': 5,\n",
       "    'learning_rate': 0.2,\n",
       "    'n_estimators': 50}},\n",
       "  {'metrics': {'R2': 0.8367591377370653, 'mse': 0.21759875427331643},\n",
       "   'hpo_time_seconds': 1.8176848888397217,\n",
       "   'best_config_inner_cv': {'max_depth': 5,\n",
       "    'learning_rate': 0.2,\n",
       "    'n_estimators': 50}},\n",
       "  {'metrics': {'R2': 0.8126743184065874, 'mse': 0.2521379986587194},\n",
       "   'hpo_time_seconds': 1.9215362071990967,\n",
       "   'best_config_inner_cv': {'max_depth': 5,\n",
       "    'learning_rate': 0.2,\n",
       "    'n_estimators': 50}}],\n",
       " 'best_model_R2': 0.8214992221396636,\n",
       " 'best_model_mse': 0.23754668272723373}"
      ]
     },
     "execution_count": 5,
     "metadata": {},
     "output_type": "execute_result"
    }
   ],
   "source": [
    "test_hpo.hp_tuning(hpo_method=\"grid_search\", outer_k=5, inner_k=3)"
   ]
  },
  {
   "cell_type": "markdown",
   "metadata": {},
   "source": [
    "### **02. Random Search**"
   ]
  },
  {
   "cell_type": "code",
   "execution_count": 11,
   "metadata": {},
   "outputs": [
    {
     "ename": "TypeError",
     "evalue": "xgboost.sklearn.XGBModel.set_params() argument after ** must be a mapping, not NoneType",
     "output_type": "error",
     "traceback": [
      "\u001b[31m---------------------------------------------------------------------------\u001b[39m",
      "\u001b[31mTypeError\u001b[39m                                 Traceback (most recent call last)",
      "\u001b[36mCell\u001b[39m\u001b[36m \u001b[39m\u001b[32mIn[11]\u001b[39m\u001b[32m, line 1\u001b[39m\n\u001b[32m----> \u001b[39m\u001b[32m1\u001b[39m \u001b[43mtest_hpo\u001b[49m\u001b[43m.\u001b[49m\u001b[43mhp_tuning\u001b[49m\u001b[43m(\u001b[49m\u001b[43mhpo_method\u001b[49m\u001b[43m=\u001b[49m\u001b[33;43m\"\u001b[39;49m\u001b[33;43mrandom_search\u001b[39;49m\u001b[33;43m\"\u001b[39;49m\u001b[43m,\u001b[49m\u001b[43m \u001b[49m\u001b[43mouter_k\u001b[49m\u001b[43m=\u001b[49m\u001b[32;43m5\u001b[39;49m\u001b[43m,\u001b[49m\u001b[43m \u001b[49m\u001b[43minner_k\u001b[49m\u001b[43m=\u001b[49m\u001b[32;43m3\u001b[39;49m\u001b[43m)\u001b[49m\n",
      "\u001b[36mFile \u001b[39m\u001b[32m~/Desktop/github/Automl/src/hpo.py:179\u001b[39m, in \u001b[36mhp_tuning\u001b[39m\u001b[34m(self, hpo_method, outer_k, inner_k, shuffle)\u001b[39m\n\u001b[32m    177\u001b[39m \u001b[38;5;66;03m# Set up outer CV loop\u001b[39;00m\n\u001b[32m    178\u001b[39m outer_cv = KFold(n_splits=outer_k, random_state=\u001b[32m42\u001b[39m, shuffle=shuffle)\n\u001b[32m--> \u001b[39m\u001b[32m179\u001b[39m results_outer_cv = []\n\u001b[32m    181\u001b[39m \u001b[38;5;66;03m# Store all configurations and their performances\u001b[39;00m\n\u001b[32m    182\u001b[39m all_configs = {}\n",
      "\u001b[31mTypeError\u001b[39m: xgboost.sklearn.XGBModel.set_params() argument after ** must be a mapping, not NoneType"
     ]
    }
   ],
   "source": [
    "test_hpo.hp_tuning(hpo_method=\"random_search\", outer_k=5, inner_k=3)"
   ]
  },
  {
   "cell_type": "markdown",
   "metadata": {},
   "source": [
    "## DEBUG"
   ]
  },
  {
   "cell_type": "code",
   "execution_count": 6,
   "metadata": {},
   "outputs": [],
   "source": [
    "param_grid = {\"max_depth\": [1, 3, 5], \"learning_rate\": [0.01, 0.1, 0.2]}"
   ]
  },
  {
   "cell_type": "code",
   "execution_count": 7,
   "metadata": {},
   "outputs": [],
   "source": [
    "param_combinations = list(\n",
    "    itertools.product(param_grid[\"max_depth\"], param_grid[\"learning_rate\"])\n",
    ")"
   ]
  },
  {
   "cell_type": "code",
   "execution_count": 8,
   "metadata": {},
   "outputs": [
    {
     "name": "stdout",
     "output_type": "stream",
     "text": [
      "[(1, 0.01), (1, 0.1), (1, 0.2), (3, 0.01), (3, 0.1), (3, 0.2), (5, 0.01), (5, 0.1), (5, 0.2)]\n"
     ]
    }
   ],
   "source": [
    "print(param_combinations)"
   ]
  },
  {
   "cell_type": "code",
   "execution_count": 9,
   "metadata": {},
   "outputs": [],
   "source": [
    "# for combination in param_combinations:\n",
    "#     model = xgb.XGBRegressor(*combination)"
   ]
  },
  {
   "cell_type": "code",
   "execution_count": 10,
   "metadata": {},
   "outputs": [
    {
     "name": "stdout",
     "output_type": "stream",
     "text": [
      "[{'max_depth': 1, 'learning_rate': 0.01}, {'max_depth': 1, 'learning_rate': 0.1}, {'max_depth': 1, 'learning_rate': 0.2}, {'max_depth': 3, 'learning_rate': 0.01}, {'max_depth': 3, 'learning_rate': 0.1}, {'max_depth': 3, 'learning_rate': 0.2}, {'max_depth': 5, 'learning_rate': 0.01}, {'max_depth': 5, 'learning_rate': 0.1}, {'max_depth': 5, 'learning_rate': 0.2}]\n"
     ]
    }
   ],
   "source": [
    "test = HPO(model, data_features=features, data_target=target, hp_values=param_grid)\n",
    "\n",
    "print(test.grid_search())"
   ]
  },
  {
   "cell_type": "markdown",
   "metadata": {},
   "source": [
    "shape of the metrics saved in the outer loop"
   ]
  },
  {
   "cell_type": "markdown",
   "metadata": {},
   "source": [
    "each element of the list:"
   ]
  },
  {
   "cell_type": "code",
   "execution_count": null,
   "metadata": {},
   "outputs": [],
   "source": [
    "{\n",
    "    \"fold\": fold_idx,\n",
    "    \"metrics\": {\"r2\": 0.82, \"mse\": 0.15, \"rmse\": 0.387, \"mae\": 0.3},\n",
    "    \"best_config\": {\"max_depth\": 5, \"learning_rate\": 0.1, \"n_estimators\": 200},\n",
    "    \"hpo_time_seconds\": 120.5,\n",
    "}"
   ]
  },
  {
   "cell_type": "code",
   "execution_count": 3,
   "metadata": {},
   "outputs": [
    {
     "data": {
      "text/plain": [
       "{'a': 10, 'b': 20}"
      ]
     },
     "execution_count": 3,
     "metadata": {},
     "output_type": "execute_result"
    }
   ],
   "source": [
    "store_metrics = [\n",
    "    {\"configuration\": {\"a\": 1, \"b\": 2}, \"results\": 1},\n",
    "    {\"configuration\": {\"a\": 10, \"b\": 20}, \"results\": 5},\n",
    "]\n",
    "\n",
    "best_configuration = store_metrics[0][\"configuration\"]\n",
    "best_config_results = store_metrics[0][\"results\"]\n",
    "for config_metrics in store_metrics:\n",
    "    if config_metrics[\"results\"] > best_config_results:\n",
    "        best_configuration = config_metrics[\"configuration\"]\n",
    "        best_config_results = config_metrics[\"results\"]\n",
    "    else:\n",
    "        continue\n",
    "\n",
    "\n",
    "best_configuration\n"
   ]
  },
  {
   "cell_type": "markdown",
   "metadata": {},
   "source": [
    "# TO DO"
   ]
  },
  {
   "cell_type": "markdown",
   "metadata": {},
   "source": [
    "[X] i changed the output structure of the tuning parameter i need to understand it more clearly, in successive phase i can reason more on the output structure to simplify it and enache visualization\n",
    "\n",
    "[-] create the random search method\n",
    "\n",
    "[ ]create the logger mechanism to show the steps of the classifier / model so to have a nice visualization of the model behaviour (figo come in progetto avatar il fatto di mostrare una tabella markdown nel logger con i risultati invece di printare e quindi imparare il meccanismo dei logger fatti bene) \n",
    "in modo da non dare sempre il dizionario per il lato backend\n",
    "\n",
    "[ ]create the data visualization method\n",
    "\n",
    "[ ]create the EA method\n",
    "\n",
    "[ ]creazione primo noteboook per mostrare funzionamento del pacchetto su grid search e random search\n",
    "\n",
    "[ ] create the bayesian optmization method\n",
    "\n",
    "[ ] creazione secondo noteboook per mostrare funzionamento del pacchetto su EA in dettaglio\n",
    "\n",
    "[ ] pubblicazione pacchetto con spiegazione generale\n",
    "\n",
    "[ ] pubblicazione primo notebook di test random e grid search \n",
    "\n",
    "[ ] pubblicazione secondo notebook funzionamento EA \n",
    "\n",
    "[ ] creazione terzo notebook per mostrare funzionamento del pacchetto su Bayesian Opt\n",
    "\n",
    "[ ] pubblicazione terzo notebook\n",
    "\n",
    "(lavoro più o meno finito) -> valuta successive integrazioni\n",
    "\n",
    "[ ]create the others method, maybe an automl pipeline\n",
    "\n",
    "\n",
    "\n"
   ]
  },
  {
   "cell_type": "markdown",
   "metadata": {},
   "source": []
  }
 ],
 "metadata": {
  "kernelspec": {
   "display_name": ".venv",
   "language": "python",
   "name": "python3"
  },
  "language_info": {
   "codemirror_mode": {
    "name": "ipython",
    "version": 3
   },
   "file_extension": ".py",
   "mimetype": "text/x-python",
   "name": "python",
   "nbconvert_exporter": "python",
   "pygments_lexer": "ipython3",
   "version": "3.11.4"
  }
 },
 "nbformat": 4,
 "nbformat_minor": 2
}
